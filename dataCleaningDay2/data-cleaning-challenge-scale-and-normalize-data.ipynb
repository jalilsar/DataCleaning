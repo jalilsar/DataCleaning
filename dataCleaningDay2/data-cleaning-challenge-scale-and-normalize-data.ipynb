{
 "cells": [
  {
   "cell_type": "markdown",
   "metadata": {
    "_cell_guid": "b91a74ba-85f4-486e-b5f9-d0898f0626bf",
    "_uuid": "6ac53f18b4f4ec0fc44348cedb5d1c319fa127c0"
   },
   "source": [
    "### All days of the challange:\n",
    "\n",
    "* [Day 1: Handling missing values](https://www.kaggle.com/rtatman/data-cleaning-challenge-handling-missing-values)\n",
    "* [Day 2: Scaling and normalization](https://www.kaggle.com/rtatman/data-cleaning-challenge-scale-and-normalize-data)\n",
    "* [Day 3: Parsing dates](https://www.kaggle.com/rtatman/data-cleaning-challenge-parsing-dates/)\n",
    "* [Day 4: Character encodings](https://www.kaggle.com/rtatman/data-cleaning-challenge-character-encodings/)\n",
    "* [Day 5: Inconsistent Data Entry](https://www.kaggle.com/rtatman/data-cleaning-challenge-inconsistent-data-entry/)\n",
    "___\n",
    "Welcome to day 2 of the 5-Day Data Challenge! Today, we're going to be looking at how to scale and normalize data (and what the difference is between the two!). To get started, click the blue \"Fork Notebook\" button in the upper, right hand corner. This will create a private copy of this notebook that you can edit and play with. Once you're finished with the exercises, you can choose to make your notebook public to share with others. :)\n",
    "\n",
    "> **Your turn!** As we work through this notebook, you'll see some notebook cells (a block of either code or text) that has \"Your Turn!\" written in it. These are exercises for you to do to help cement your understanding of the concepts we're talking about. Once you've written the code to answer a specific question, you can run the code by clicking inside the cell (box with code in it) with the code you want to run and then hit CTRL + ENTER (CMD + ENTER on a Mac). You can also click in a cell and then click on the right \"play\" arrow to the left of the code. If you want to run all the code in your notebook, you can use the double, \"fast forward\" arrows at the bottom of the notebook editor.\n",
    "\n",
    "Here's what we're going to do today:\n",
    "\n",
    "* [Get our environment set up](#Get-our-environment-set-up)\n",
    "* [Scaling vs. Normalization: What's the difference?](#Scaling-vs.-Normalization:-What's-the-difference?)\n",
    "* [Practice scaling](#Practice-scaling)\n",
    "* [Practice normalization](#Practice-normalization)\n",
    "\n",
    "Let's get started!"
   ]
  },
  {
   "cell_type": "markdown",
   "metadata": {
    "_cell_guid": "5cd5061f-ae30-4837-a53b-690ffd5c5830",
    "_uuid": "9d82bf13584b8e682962fbb96131f2447d741679"
   },
   "source": [
    "# Get our environment set up\n",
    "________\n",
    "\n",
    "The first thing we'll need to do is load in the libraries and datasets we'll be using. \n",
    "\n",
    "> **Important!** Make sure you run this cell yourself or the rest of your code won't work!"
   ]
  },
  {
   "cell_type": "code",
   "execution_count": 23,
   "metadata": {
    "_cell_guid": "135a7804-b5f5-40aa-8657-4a15774e3666",
    "_uuid": "835cbe0834b935fb0fd40c75b9c39454836f4d5f"
   },
   "outputs": [
    {
     "data": {
      "text/plain": [
       "0           1533.95\n",
       "1          30000.00\n",
       "2          45000.00\n",
       "3           5000.00\n",
       "4          19500.00\n",
       "5          50000.00\n",
       "6           1000.00\n",
       "7          25000.00\n",
       "8         125000.00\n",
       "9          65000.00\n",
       "10          2406.39\n",
       "11         12500.00\n",
       "12          5000.00\n",
       "13        200000.00\n",
       "14          6469.73\n",
       "15          2500.00\n",
       "16          1500.00\n",
       "17          3000.00\n",
       "18           250.00\n",
       "19          5000.00\n",
       "20         20000.00\n",
       "21          2026.10\n",
       "22          3500.00\n",
       "23            65.55\n",
       "24           175.00\n",
       "25         10000.00\n",
       "26         17489.65\n",
       "27         15313.04\n",
       "28           142.91\n",
       "29         50000.00\n",
       "            ...    \n",
       "378631     10000.00\n",
       "378632     12000.00\n",
       "378633     25000.00\n",
       "378634      4000.00\n",
       "378635       800.00\n",
       "378636      4311.83\n",
       "378637     10000.00\n",
       "378638      5000.00\n",
       "378639      5000.00\n",
       "378640      1000.00\n",
       "378641     82207.27\n",
       "378642      1165.70\n",
       "378643      6500.00\n",
       "378644      3500.00\n",
       "378645     25566.05\n",
       "378646       950.00\n",
       "378647      4999.00\n",
       "378648       500.00\n",
       "378649       500.00\n",
       "378650      6000.00\n",
       "378651      4529.81\n",
       "378652      2675.19\n",
       "378653      1700.00\n",
       "378654      6500.00\n",
       "378655      4949.60\n",
       "378656     50000.00\n",
       "378657      1500.00\n",
       "378658     15000.00\n",
       "378659     15000.00\n",
       "378660      2000.00\n",
       "Name: usd_goal_real, Length: 378661, dtype: float64"
      ]
     },
     "execution_count": 23,
     "metadata": {},
     "output_type": "execute_result"
    }
   ],
   "source": [
    "# modules we'll use\n",
    "import pandas as pd\n",
    "import numpy as np\n",
    "\n",
    "# for Box-Cox Transformation\n",
    "from scipy import stats\n",
    "\n",
    "# for min_max scaling\n",
    "from mlxtend.preprocessing import minmax_scaling\n",
    "\n",
    "# plotting modules\n",
    "import seaborn as sns\n",
    "import matplotlib.pyplot as plt\n",
    "\n",
    "# read in all our data\n",
    "kickstarters_2017 = pd.read_csv(\"ks-projects-201801.csv\")\n",
    "\n",
    "# set seed for reproducibility\n",
    "np.random.seed(0)\n",
    "\n",
    "kickstarters_2017.usd_goal_real\n"
   ]
  },
  {
   "cell_type": "markdown",
   "metadata": {
    "_cell_guid": "604ac3a4-b1d9-4264-b312-4bbeecdeec00",
    "_uuid": "03ce3b4afe87d98f777172c2c7be066a66a0b237"
   },
   "source": [
    "Now that we're set up, let's learn about scaling & normalization. (If you like, you can take this opportunity to take a look at some of the data.)"
   ]
  },
  {
   "cell_type": "markdown",
   "metadata": {
    "_cell_guid": "62b9f021-5b80-43e2-bf60-8e0d5e22d572",
    "_uuid": "032a618abb98a28e60ab84376cf21402178f995d"
   },
   "source": [
    "# Scaling vs. Normalization: What's the difference?\n",
    "____\n",
    "\n",
    "One of the reasons that it's easy to get confused between scaling and normalization is because the terms are sometimes used interchangeably and, to make it even more confusing, they are very similar! In both cases, you're transforming the values of numeric variables so that the transformed data points have specific helpful properties. The difference is that, in scaling, you're changing the *range* of your data while in normalization you're changing the *shape of the distribution* of your data. Let's talk a little more in-depth about each of these options. \n",
    "\n",
    "___\n",
    "\n",
    "## **Scaling**\n",
    "\n",
    "This means that you're transforming your data so that it fits within a specific scale, like 0-100 or 0-1.  You want to scale data when you're using methods based on measures of how far apart data points, like [support vector machines, or SVM](https://en.wikipedia.org/wiki/Support_vector_machine) or [k-nearest neighbors, or KNN](https://en.wikipedia.org/wiki/K-nearest_neighbors_algorithm). With these algorithms, a change of \"1\" in any numeric feature is given the same importance. \n",
    "\n",
    "For example, you might be looking at the prices of some products in both Yen and US Dollars. One US Dollar is worth about 100 Yen, but if you don't scale your prices methods like SVM or KNN will consider a difference in price of 1 Yen as important as a difference of 1 US Dollar! This clearly doesn't fit with our intuitions of the world. With currency, you can convert between currencies. But what about if you're looking at something like height and weight? It's not entirely clear how many pounds should equal one inch (or how many kilograms should equal one meter).\n",
    "\n",
    "By scaling your variables, you can help compare different variables on equal footing. To help solidify what scaling looks like, let's look at a made-up example. (Don't worry, we'll work with real data in just a second, this is just to help illustrate my point.)\n"
   ]
  },
  {
   "cell_type": "code",
   "execution_count": 3,
   "metadata": {
    "_cell_guid": "e0942c00-e306-4c64-a53a-e76d07cd937f",
    "_uuid": "e35280c753de7b963c4d812624c816c766ef4367"
   },
   "outputs": [
    {
     "name": "stderr",
     "output_type": "stream",
     "text": [
      "/Users/jalilsarwari/anaconda3/lib/python3.7/site-packages/scipy/stats/stats.py:1713: FutureWarning: Using a non-tuple sequence for multidimensional indexing is deprecated; use `arr[tuple(seq)]` instead of `arr[seq]`. In the future this will be interpreted as an array index, `arr[np.array(seq)]`, which will result either in an error or a different result.\n",
      "  \"\"\"\n"
     ]
    },
    {
     "data": {
      "text/plain": [
       "Text(0.5, 1.0, 'Scaled data')"
      ]
     },
     "execution_count": 3,
     "metadata": {},
     "output_type": "execute_result"
    },
    {
     "data": {
      "image/png": "[encoded data removed]",
      "text/plain": [
       "<Figure size 432x288 with 2 Axes>"
      ]
     },
     "metadata": {
      "needs_background": "light"
     },
     "output_type": "display_data"
    }
   ],
   "source": [
    "# generate 1000 data points randomly drawn from an exponential distribution\n",
    "original_data = np.random.exponential(size = 1000)\n",
    "\n",
    "# mix-max scale the data between 0 and 1\n",
    "scaled_data = minmax_scaling(original_data, columns = [0])\n",
    "\n",
    "# plot both together to compare\n",
    "fig, ax=plt.subplots(1,2)\n",
    "sns.distplot(original_data, ax=ax[0])\n",
    "ax[0].set_title(\"Original Data\")\n",
    "sns.distplot(scaled_data, ax=ax[1])\n",
    "ax[1].set_title(\"Scaled data\")"
   ]
  },
  {
   "cell_type": "markdown",
   "metadata": {
    "_cell_guid": "ed530656-2707-4978-835c-c665a9e25ec0",
    "_uuid": "a2523383e47af8d7902b75c5da7829b85553dcae"
   },
   "source": [
    "Notice that the *shape* of the data doesn't change, but that instead of ranging from 0 to 8ish, it now ranges from 0 to 1.\n",
    "\n",
    "___\n",
    "## Normalization\n",
    "\n",
    "Scaling just changes the range of your data. Normalization is a more radical transformation. The point of normalization is to change your observations so that they can be described as a normal distribution.\n",
    "\n",
    "> **[Normal distribution:](https://en.wikipedia.org/wiki/Normal_distribution)** Also known as the \"bell curve\", this is a specific statistical distribution where a roughly equal observations fall above and below the mean, the mean and the median are the same, and there are more observations closer to the mean. The normal distribution is also known as the Gaussian distribution.\n",
    "\n",
    "In general, you'll only want to normalize your data if you're going to be using a machine learning or statistics technique that assumes your data is normally distributed. Some examples of these include t-tests, ANOVAs, linear regression, linear discriminant analysis (LDA) and Gaussian naive Bayes. (Pro tip: any method with \"Gaussian\" in the name probably assumes normality.)\n",
    "\n",
    "The method were  using to normalize here is called the [Box-Cox Transformation](https://en.wikipedia.org/wiki/Power_transform#Box%E2%80%93Cox_transformation). Let's take a quick peek at what normalizing some data looks like:"
   ]
  },
  {
   "cell_type": "code",
   "execution_count": 4,
   "metadata": {
    "_cell_guid": "851dc531-ea15-46f4-ba59-2e9be614856c",
    "_uuid": "e1484f70203b1a9335a557939398beb45b3a4fbd",
    "scrolled": true
   },
   "outputs": [
    {
     "data": {
      "text/plain": [
       "Text(0.5, 1.0, 'Normalized data')"
      ]
     },
     "execution_count": 4,
     "metadata": {},
     "output_type": "execute_result"
    },
    {
     "data": {
      "image/png": "[encoded data removed]",
      "text/plain": [
       "<Figure size 432x288 with 2 Axes>"
      ]
     },
     "metadata": {
      "needs_background": "light"
     },
     "output_type": "display_data"
    }
   ],
   "source": [
    "# normalize the exponential data with boxcox\n",
    "normalized_data = stats.boxcox(original_data)\n",
    "\n",
    "# plot both together to compare\n",
    "fig, ax=plt.subplots(1,2)\n",
    "sns.distplot(original_data, ax=ax[0])\n",
    "ax[0].set_title(\"Original Data\")\n",
    "sns.distplot(normalized_data[0], ax=ax[1])\n",
    "ax[1].set_title(\"Normalized data\")"
   ]
  },
  {
   "cell_type": "markdown",
   "metadata": {
    "_cell_guid": "52011105-e1e3-4bb0-9b59-59614a96e3d4",
    "_uuid": "5975eb63a310ca983facc4a8b969e235fee58c74"
   },
   "source": [
    "Notice that the *shape* of our data has changed. Before normalizing it was almost L-shaped. But after normalizing it looks more like the outline of a bell (hence \"bell curve\"). \n",
    "\n",
    "___\n",
    "## Your turn!\n",
    "\n",
    "For the following example, decide whether scaling or normalization makes more sense. \n",
    "\n",
    "* You want to build a linear regression model to predict someone's grades given how much time they spend on various activities during a normal school week.  You notice that your measurements for how much time students spend studying aren't normally distributed: some students spend almost no time studying and others study for four or more hours every day. Should you scale or normalize this variable?\n",
    "* You're still working on your grades study, but you want to include information on how students perform on several fitness tests as well. You have information on how many jumping jacks and push-ups each student can complete in a minute. However, you notice that students perform far more jumping jacks than push-ups: the average for the former is 40, and for the latter only 10. Should you scale or normalize these variables?"
   ]
  },
  {
   "cell_type": "markdown",
   "metadata": {
    "_cell_guid": "fc728697-ce3e-4890-b14d-597b2281f30d",
    "_uuid": "0c4d06413046e632dd1936095028587af3be0e47"
   },
   "source": [
    "# Practice scaling\n",
    "___\n",
    "\n",
    "To practice scaling and normalization, we're going to be using a dataset of Kickstarter campaigns. (Kickstarter is a website where people can ask people to invest in various projects and concept products.)\n",
    "\n",
    "Let's start by scaling the goals of each campaign, which is how much money they were asking for."
   ]
  },
  {
   "cell_type": "code",
   "execution_count": 22,
   "metadata": {
    "_cell_guid": "de763e3b-9068-41db-89b0-25a5ca2d4e3b",
    "_uuid": "0b8e70d8847a16672ed0d948d1d33b2f862a6b4c"
   },
   "outputs": [
    {
     "name": "stderr",
     "output_type": "stream",
     "text": [
      "/Users/jalilsarwari/anaconda3/lib/python3.7/site-packages/scipy/stats/stats.py:1713: FutureWarning: Using a non-tuple sequence for multidimensional indexing is deprecated; use `arr[tuple(seq)]` instead of `arr[seq]`. In the future this will be interpreted as an array index, `arr[np.array(seq)]`, which will result either in an error or a different result.\n",
      "  \"\"\"\n"
     ]
    },
    {
     "data": {
      "text/plain": [
       "Text(0.5, 1.0, 'Scaled data')"
      ]
     },
     "execution_count": 22,
     "metadata": {},
     "output_type": "execute_result"
    },
    {
     "data": {
      "image/png": "[encoded data removed]",
      "text/plain": [
       "<Figure size 432x288 with 2 Axes>"
      ]
     },
     "metadata": {
      "needs_background": "light"
     },
     "output_type": "display_data"
    }
   ],
   "source": [
    "# select the usd_goal_real column\n",
    "usd_goal = kickstarters_2017.usd_goal_real\n",
    "\n",
    "# scale the goals from 0 to 1\n",
    "scaled_data = minmax_scaling(usd_goal, columns = [0])\n",
    "\n",
    "# plot the original & scaled data together to compare\n",
    "fig, ax=plt.subplots(1,2)\n",
    "sns.distplot(kickstarters_2017.usd_goal_real, ax=ax[0])\n",
    "ax[0].set_title(\"Original Data\")\n",
    "sns.distplot(scaled_data, ax=ax[1])\n",
    "ax[1].set_title(\"Scaled data\")"
   ]
  },
  {
   "cell_type": "markdown",
   "metadata": {
    "_cell_guid": "5a49630f-65eb-4bec-85e1-f75d7a362330",
    "_uuid": "8a5e45f15d161b648889d7ab5c0bb53e9b3aa866"
   },
   "source": [
    "You can see that scaling changed the scales of the plots dramatically (but not the shape of the data: it looks like most campaigns have small goals but a few have very large ones)"
   ]
  },
  {
   "cell_type": "code",
   "execution_count": 9,
   "metadata": {
    "_cell_guid": "e7642d9a-701c-4142-9de8-00e65be3bd64",
    "_uuid": "d1a6395b65baf92b88a08c386e6dfd78fe6466d1"
   },
   "outputs": [
    {
     "data": {
      "text/plain": [
       "<bound method NDFrame.head of                 ID                                               name  \\\n",
       "0       1000002330                    The Songs of Adelaide & Abullah   \n",
       "1       1000003930      Greeting From Earth: ZGAC Arts Capsule For ET   \n",
       "2       1000004038                                     Where is Hank?   \n",
       "3       1000007540  ToshiCapital Rekordz Needs Help to Complete Album   \n",
       "4       1000011046  Community Film Project: The Art of Neighborhoo...   \n",
       "5       1000014025                               Monarch Espresso Bar   \n",
       "6       1000023410  Support Solar Roasted Coffee & Green Energy!  ...   \n",
       "7       1000030581  Chaser Strips. Our Strips make Shots their B*tch!   \n",
       "8       1000034518  SPIN - Premium Retractable In-Ear Headphones w...   \n",
       "9        100004195  STUDIO IN THE SKY - A Documentary Feature Film...   \n",
       "10       100004721                                Of Jesus and Madmen   \n",
       "11       100005484                                   Lisa Lim New CD!   \n",
       "12      1000055792                                 The Cottage Market   \n",
       "13      1000056157  G-Spot Place for Gamers to connect with eachot...   \n",
       "14      1000057089  Tombstone: Old West tabletop game and miniatur...   \n",
       "15      1000064368                                     Survival Rings   \n",
       "16      1000064918                                          The Beard   \n",
       "17      1000068480                   Notes From London: Above & Below   \n",
       "18      1000070642                Mike Corey's Darkness & Light Album   \n",
       "19      1000071625                                           Boco Tea   \n",
       "20      1000072011              CMUK. Shoes: Take on Life Feet First.   \n",
       "21      1000081649                   MikeyJ clothing brand fundraiser   \n",
       "22      1000082254                     Alice in Wonderland in G Minor   \n",
       "23      1000087442  Mountain brew: A quest for alcohol sustainability   \n",
       "24      1000091520                        The Book Zoo - A Mini-Comic   \n",
       "25      1000102741  Matt Cavenaugh & Jenny Powers make their 1st a...   \n",
       "26      1000103948                               Superhero Teddy Bear   \n",
       "27      1000104688                                Permaculture Skills   \n",
       "28      1000104953  Rebel Army Origins: The Heroic Story Of Major ...   \n",
       "29       100011318                      My Moon - Animated Short Film   \n",
       "...            ...                                                ...   \n",
       "378631   999832803  MONSTROCARDS- A Creative Drawing Game of Horri...   \n",
       "378632    99984851                                           \"Loreto\"   \n",
       "378633   999865831  STATE OF G - Men's Blazer Jacket & Women's Car...   \n",
       "378634   999867839                                      Transcaucasia   \n",
       "378635    99987261  You're Not Cis, You Just Think You Are: My Enb...   \n",
       "378636   999877902                      Little Saturday's Debut Album   \n",
       "378637   999878813                           Ways to Look at the Moon   \n",
       "378638   999880710                                Terminal Uniqueness   \n",
       "378639   999884445  Superette Tea - Boldly Caffeinated Loose Leaf Tea   \n",
       "378640   999893629                          Ciridian Helix (Canceled)   \n",
       "378641    99991751   Here is the oasis for the youngest in the world.   \n",
       "378642   999929142  ÉPOUVANTAILS : 28mm Figurines de jeux pour KIN...   \n",
       "378643   999931480                     Google Glass Shield (Canceled)   \n",
       "378644   999934908                               The Manual Bar Blade   \n",
       "378645   999941823        The Chronicles of Erinoth - A Graphic Novel   \n",
       "378646   999943841                                The Dog Coffee Book   \n",
       "378647   999950812                              The Cease is Increase   \n",
       "378648   999955533        Cards and Chit Network Season 2! (Canceled)   \n",
       "378649   999963618      Colorado International Activism Film Festival   \n",
       "378650    99996661                         Date Seat - Boston iOS App   \n",
       "378651   999969812                                       AT THE BEACH   \n",
       "378652   999971898                        Beach Wrestling Documentary   \n",
       "378653   999972264                                            Islanda   \n",
       "378654   999975836              Homemade fresh dog food, Cleveland OH   \n",
       "378655   999976312                         Angela's Poetry (Canceled)   \n",
       "378656   999976400  ChknTruk Nationwide Charity Drive 2014 (Canceled)   \n",
       "378657   999977640                                          The Tribe   \n",
       "378658   999986353  Walls of Remedy- New lesbian Romantic Comedy f...   \n",
       "378659   999987933                           BioDefense Education Kit   \n",
       "378660   999988282                  Nou Renmen Ayiti!  We Love Haiti!   \n",
       "\n",
       "                category main_category currency    deadline      goal  \\\n",
       "0                 Poetry    Publishing      GBP  2015-10-09    1000.0   \n",
       "1         Narrative Film  Film & Video      USD  2017-11-01   30000.0   \n",
       "2         Narrative Film  Film & Video      USD  2013-02-26   45000.0   \n",
       "3                  Music         Music      USD  2012-04-16    5000.0   \n",
       "4           Film & Video  Film & Video      USD  2015-08-29   19500.0   \n",
       "5            Restaurants          Food      USD  2016-04-01   50000.0   \n",
       "6                   Food          Food      USD  2014-12-21    1000.0   \n",
       "7                 Drinks          Food      USD  2016-03-17   25000.0   \n",
       "8         Product Design        Design      USD  2014-05-29  125000.0   \n",
       "9            Documentary  Film & Video      USD  2014-08-10   65000.0   \n",
       "10            Nonfiction    Publishing      CAD  2013-10-09    2500.0   \n",
       "11            Indie Rock         Music      USD  2013-04-08   12500.0   \n",
       "12                Crafts        Crafts      USD  2014-10-02    5000.0   \n",
       "13                 Games         Games      USD  2016-03-25  200000.0   \n",
       "14        Tabletop Games         Games      GBP  2017-05-03    5000.0   \n",
       "15                Design        Design      USD  2015-02-28    2500.0   \n",
       "16           Comic Books        Comics      USD  2014-11-08    1500.0   \n",
       "17             Art Books    Publishing      USD  2015-05-10    3000.0   \n",
       "18                 Music         Music      USD  2012-08-17     250.0   \n",
       "19                  Food          Food      USD  2012-06-02    5000.0   \n",
       "20               Fashion       Fashion      USD  2013-12-30   20000.0   \n",
       "21         Childrenswear       Fashion      AUD  2017-09-07    2500.0   \n",
       "22               Theater       Theater      USD  2014-06-15    3500.0   \n",
       "23                Drinks          Food      NOK  2015-02-25     500.0   \n",
       "24                Comics        Comics      USD  2014-11-12     175.0   \n",
       "25                 Music         Music      USD  2011-01-06   10000.0   \n",
       "26                   DIY        Crafts      GBP  2016-01-05   12000.0   \n",
       "27             Webseries  Film & Video      CAD  2014-12-14   17757.0   \n",
       "28                Comics        Comics      GBP  2016-01-28     100.0   \n",
       "29             Animation  Film & Video      USD  2017-05-03   50000.0   \n",
       "...                  ...           ...      ...         ...       ...   \n",
       "378631     Playing Cards         Games      USD  2014-10-03   10000.0   \n",
       "378632            Comedy  Film & Video      USD  2014-06-05   12000.0   \n",
       "378633           Apparel       Fashion      USD  2014-12-13   25000.0   \n",
       "378634       Photography   Photography      USD  2011-01-08    4000.0   \n",
       "378635        Nonfiction    Publishing      USD  2015-09-24     800.0   \n",
       "378636    Country & Folk         Music      CAD  2014-12-17    5000.0   \n",
       "378637            Shorts  Film & Video      USD  2017-10-13   10000.0   \n",
       "378638        Nonfiction    Publishing      USD  2014-08-15    5000.0   \n",
       "378639            Drinks          Food      USD  2015-12-03    5000.0   \n",
       "378640           Fiction    Publishing      USD  2014-09-11    1000.0   \n",
       "378641    Product Design        Design      CHF  2015-09-04   80000.0   \n",
       "378642    Tabletop Games         Games      EUR  2017-10-31    1000.0   \n",
       "378643       3D Printing    Technology      USD  2014-05-26    6500.0   \n",
       "378644    Product Design        Design      USD  2015-12-15    3500.0   \n",
       "378645            Comics        Comics      GBP  2013-10-10   16000.0   \n",
       "378646  Children's Books    Publishing      USD  2013-11-30     950.0   \n",
       "378647        Nonfiction    Publishing      USD  2012-09-14    4999.0   \n",
       "378648    Tabletop Games         Games      USD  2016-02-23     500.0   \n",
       "378649    Narrative Film  Film & Video      USD  2017-04-09     500.0   \n",
       "378650              Apps    Technology      USD  2016-09-05    6000.0   \n",
       "378651   Classical Music         Music      CAD  2014-03-22    5000.0   \n",
       "378652       Documentary  Film & Video      NOK  2015-04-28   20000.0   \n",
       "378653       Documentary  Film & Video      USD  2012-03-16    1700.0   \n",
       "378654       Small Batch          Food      USD  2017-04-19    6500.0   \n",
       "378655            Poetry    Publishing      CAD  2014-09-20    5500.0   \n",
       "378656       Documentary  Film & Video      USD  2014-10-17   50000.0   \n",
       "378657    Narrative Film  Film & Video      USD  2011-07-19    1500.0   \n",
       "378658    Narrative Film  Film & Video      USD  2010-08-16   15000.0   \n",
       "378659        Technology    Technology      USD  2016-02-13   15000.0   \n",
       "378660   Performance Art           Art      USD  2011-08-16    2000.0   \n",
       "\n",
       "                   launched   pledged       state  backers country  \\\n",
       "0       2015-08-11 12:12:28      0.00      failed        0      GB   \n",
       "1       2017-09-02 04:43:57   2421.00      failed       15      US   \n",
       "2       2013-01-12 00:20:50    220.00      failed        3      US   \n",
       "3       2012-03-17 03:24:11      1.00      failed        1      US   \n",
       "4       2015-07-04 08:35:03   1283.00    canceled       14      US   \n",
       "5       2016-02-26 13:38:27  52375.00  successful      224      US   \n",
       "6       2014-12-01 18:30:44   1205.00  successful       16      US   \n",
       "7       2016-02-01 20:05:12    453.00      failed       40      US   \n",
       "8       2014-04-24 18:14:43   8233.00    canceled       58      US   \n",
       "9       2014-07-11 21:55:48   6240.57    canceled       43      US   \n",
       "10      2013-09-09 18:19:37      0.00      failed        0      CA   \n",
       "11      2013-03-09 06:42:58  12700.00  successful      100      US   \n",
       "12      2014-09-02 17:11:50      0.00      failed        0      US   \n",
       "13      2016-02-09 23:01:12      0.00      failed        0      US   \n",
       "14      2017-04-05 19:44:18  94175.00  successful      761      GB   \n",
       "15      2015-01-29 02:10:53    664.00      failed       11      US   \n",
       "16      2014-10-09 22:27:52    395.00      failed       16      US   \n",
       "17      2015-04-10 21:20:54    789.00      failed       20      US   \n",
       "18      2012-08-02 14:11:32    250.00  successful        7      US   \n",
       "19      2012-05-03 17:24:32   1781.00      failed       40      US   \n",
       "20      2013-11-25 07:06:11  34268.00  successful      624      US   \n",
       "21      2017-08-08 01:20:20      1.00      failed        1      AU   \n",
       "22      2014-05-16 10:10:38    650.00      failed       12      US   \n",
       "23      2015-01-26 19:17:33     48.00      failed        3      NO   \n",
       "24      2014-10-23 17:15:50    701.66  successful       66      US   \n",
       "25      2010-12-07 23:16:50  15827.00  successful      147      US   \n",
       "26      2015-12-06 20:09:06      0.00      failed        0      GB   \n",
       "27      2014-11-14 18:02:00  48905.00  successful      571      CA   \n",
       "28      2015-12-29 16:59:29    112.38  successful       27      GB   \n",
       "29      2017-04-03 17:11:33  57577.31  successful      840      US   \n",
       "...                     ...       ...         ...      ...     ...   \n",
       "378631  2014-09-03 19:53:50  13861.50  successful      413      US   \n",
       "378632  2014-05-06 23:50:34      0.00      failed        0      US   \n",
       "378633  2014-11-13 17:16:17  11643.00      failed       97      US   \n",
       "378634  2010-11-08 02:43:59   3531.00      failed       37      US   \n",
       "378635  2015-08-25 22:37:14     70.00      failed        5      US   \n",
       "378636  2014-11-17 17:50:12   5435.00  successful       78      CA   \n",
       "378637  2017-08-29 06:57:28  10245.00  successful      123      US   \n",
       "378638  2014-07-15 02:10:39     18.00      failed        5      US   \n",
       "378639  2015-11-03 13:04:14   5579.00  successful      103      US   \n",
       "378640  2014-08-08 21:49:31    100.00    canceled        2      US   \n",
       "378641  2015-07-06 18:00:47      0.00      failed        0      CH   \n",
       "378642  2017-10-04 11:26:44   1246.00  successful       35      FR   \n",
       "378643  2014-05-05 20:22:45      0.00    canceled        0      US   \n",
       "378644  2015-11-23 07:33:14   6169.00  successful      120      US   \n",
       "378645  2013-09-10 22:45:26   2738.00      failed       38      GB   \n",
       "378646  2013-10-18 21:35:04   1732.02  successful       31      US   \n",
       "378647  2012-08-15 17:11:00    980.00      failed       16      US   \n",
       "378648  2016-01-24 16:03:27    121.00    canceled        5      US   \n",
       "378649  2017-02-08 02:28:44    135.00      failed        6      US   \n",
       "378650  2016-07-29 15:36:29      0.00      failed        0      US   \n",
       "378651  2014-02-20 01:00:16   5501.00  successful       78      CA   \n",
       "378652  2015-03-29 21:30:33  21500.00  successful       36      NO   \n",
       "378653  2012-02-15 04:31:10     25.00      failed        1      US   \n",
       "378654  2017-03-20 22:08:22    154.00      failed        4      US   \n",
       "378655  2014-08-06 03:46:07      0.00    canceled        0      CA   \n",
       "378656  2014-09-17 02:35:30     25.00    canceled        1      US   \n",
       "378657  2011-06-22 03:35:14    155.00      failed        5      US   \n",
       "378658  2010-07-01 19:40:30     20.00      failed        1      US   \n",
       "378659  2016-01-13 18:13:53    200.00      failed        6      US   \n",
       "378660  2011-07-19 09:07:47    524.00      failed       17      US   \n",
       "\n",
       "        usd pledged  usd_pledged_real  usd_goal_real  \n",
       "0              0.00              0.00        1533.95  \n",
       "1            100.00           2421.00       30000.00  \n",
       "2            220.00            220.00       45000.00  \n",
       "3              1.00              1.00        5000.00  \n",
       "4           1283.00           1283.00       19500.00  \n",
       "5          52375.00          52375.00       50000.00  \n",
       "6           1205.00           1205.00        1000.00  \n",
       "7            453.00            453.00       25000.00  \n",
       "8           8233.00           8233.00      125000.00  \n",
       "9           6240.57           6240.57       65000.00  \n",
       "10             0.00              0.00        2406.39  \n",
       "11         12700.00          12700.00       12500.00  \n",
       "12             0.00              0.00        5000.00  \n",
       "13             0.00              0.00      200000.00  \n",
       "14         57763.78         121857.33        6469.73  \n",
       "15           664.00            664.00        2500.00  \n",
       "16           395.00            395.00        1500.00  \n",
       "17           789.00            789.00        3000.00  \n",
       "18           250.00            250.00         250.00  \n",
       "19          1781.00           1781.00        5000.00  \n",
       "20         34268.00          34268.00       20000.00  \n",
       "21             0.00              0.81        2026.10  \n",
       "22           650.00            650.00        3500.00  \n",
       "23             6.18              6.29          65.55  \n",
       "24           701.66            701.66         175.00  \n",
       "25         15827.00          15827.00       10000.00  \n",
       "26             0.00              0.00       17489.65  \n",
       "27         43203.25          42174.03       15313.04  \n",
       "28           167.70            160.60         142.91  \n",
       "29         10120.00          57577.31       50000.00  \n",
       "...             ...               ...            ...  \n",
       "378631     13861.50          13861.50       10000.00  \n",
       "378632         0.00              0.00       12000.00  \n",
       "378633     11643.00          11643.00       25000.00  \n",
       "378634      3531.00           3531.00        4000.00  \n",
       "378635        70.00             70.00         800.00  \n",
       "378636      4814.88           4686.96        4311.83  \n",
       "378637       145.00          10245.00       10000.00  \n",
       "378638        18.00             18.00        5000.00  \n",
       "378639      5579.00           5579.00        5000.00  \n",
       "378640       100.00            100.00        1000.00  \n",
       "378641         0.00              0.00       82207.27  \n",
       "378642        66.72           1452.47        1165.70  \n",
       "378643         0.00              0.00        6500.00  \n",
       "378644      6169.00           6169.00        3500.00  \n",
       "378645      4281.15           4374.99       25566.05  \n",
       "378646      1732.02           1732.02         950.00  \n",
       "378647       980.00            980.00        4999.00  \n",
       "378648       121.00            121.00         500.00  \n",
       "378649        45.00            135.00         500.00  \n",
       "378650         0.00              0.00        6000.00  \n",
       "378651      5019.92           4983.69        4529.81  \n",
       "378652      2698.97           2875.83        2675.19  \n",
       "378653        25.00             25.00        1700.00  \n",
       "378654         0.00            154.00        6500.00  \n",
       "378655         0.00              0.00        4949.60  \n",
       "378656        25.00             25.00       50000.00  \n",
       "378657       155.00            155.00        1500.00  \n",
       "378658        20.00             20.00       15000.00  \n",
       "378659       200.00            200.00       15000.00  \n",
       "378660       524.00            524.00        2000.00  \n",
       "\n",
       "[378661 rows x 15 columns]>"
      ]
     },
     "execution_count": 9,
     "metadata": {},
     "output_type": "execute_result"
    }
   ],
   "source": [
    "# Your turn! \n",
    "\n",
    "# We just scaled the \"usd_goal_real\" column. What about the \"goal\" column?\n",
    "# select the usd_goal_real column"
   ]
  },
  {
   "cell_type": "markdown",
   "metadata": {
    "_cell_guid": "bc6457a4-0850-4ba8-b3d3-d13b0773a816",
    "_uuid": "027cd701d636d429da778526c55ceca1a90a3f7d"
   },
   "source": [
    "# Practice normalization\n",
    "___\n",
    "\n",
    "Ok, now let's try practicing normalization. We're going to normalize the amount of money pledged to each campaign."
   ]
  },
  {
   "cell_type": "code",
   "execution_count": null,
   "metadata": {
    "_cell_guid": "3daf5f3e-cb09-4c37-8157-40b1a9156ef8",
    "_uuid": "9ed5aceeb2f13dad8868e1587cf06ef7e6bc3efe",
    "collapsed": true
   },
   "outputs": [],
   "source": [
    "# get the index of all positive pledges (Box-Cox only takes postive values)\n",
    "index_of_positive_pledges = kickstarters_2017.usd_pledged_real > 0\n",
    "\n",
    "# get only positive pledges (using their indexes)\n",
    "positive_pledges = kickstarters_2017.usd_pledged_real.loc[index_of_positive_pledges]\n",
    "\n",
    "# normalize the pledges (w/ Box-Cox)\n",
    "normalized_pledges = stats.boxcox(positive_pledges)[0]\n",
    "\n",
    "# plot both together to compare\n",
    "fig, ax=plt.subplots(1,2)\n",
    "sns.distplot(positive_pledges, ax=ax[0])\n",
    "ax[0].set_title(\"Original Data\")\n",
    "sns.distplot(normalized_pledges, ax=ax[1])\n",
    "ax[1].set_title(\"Normalized data\")"
   ]
  },
  {
   "cell_type": "markdown",
   "metadata": {
    "_cell_guid": "1f029f7c-6e50-4248-bfab-f825b91d66f4",
    "_uuid": "c67255d163072abc343768753cea0ea52a493f98"
   },
   "source": [
    "It's not perfect (it looks like a lot pledges got very few pledges) but it is much closer to normal!"
   ]
  },
  {
   "cell_type": "code",
   "execution_count": null,
   "metadata": {
    "_cell_guid": "39b812f2-aa99-44c9-9ff8-1d7dd8aa9a03",
    "_uuid": "5852785ba1225a1675e8abd2e60513a0a0538e8d",
    "collapsed": true
   },
   "outputs": [],
   "source": [
    "# Your turn! \n",
    "# We looked as the usd_pledged_real column. What about the \"pledged\" column? Does it have the same info?\n"
   ]
  },
  {
   "cell_type": "markdown",
   "metadata": {
    "_cell_guid": "b4f37fce-4d08-409e-bbbd-6a26c3bbc6ee",
    "_uuid": "52b0af56e3c77db96056e9acd785f8f435f7caf5"
   },
   "source": [
    "And that's it for today! If you have any questions, be sure to post them in the comments below or [on the forums](https://www.kaggle.com/questions-and-answers). \n",
    "\n",
    "Remember that your notebook is private by default, and in order to share it with other people or ask for help with it, you'll need to make it public. First, you'll need to save a version of your notebook that shows your current work by hitting the \"Commit & Run\" button. (Your work is saved automatically, but versioning your work lets you go back and look at what it was like at the point you saved it. It also lets you share a nice compiled notebook instead of just the raw code.) Then, once your notebook is finished running, you can go to the Settings tab in the panel to the left (you may have to expand it by hitting the [<] button next to the \"Commit & Run\" button) and setting the \"Visibility\" dropdown to \"Public\".\n",
    "\n",
    "# More practice!\n",
    "___\n",
    "\n",
    "Try finding a new dataset and pretend you're preparing to preform a [regression analysis](https://www.kaggle.com/rtatman/the-5-day-regression-challenge). ([These datasets are a good start!](https://www.kaggle.com/rtatman/datasets-for-regression-analysis)) Pick three or four variables and decide if you need to normalize or scale any of them and, if you think you should, practice applying the correct technique."
   ]
  }
 ],
 "metadata": {
  "kernelspec": {
   "display_name": "Python 3",
   "language": "python",
   "name": "python3"
  },
  "language_info": {
   "codemirror_mode": {
    "name": "ipython",
    "version": 3
   },
   "file_extension": ".py",
   "mimetype": "text/x-python",
   "name": "python",
   "nbconvert_exporter": "python",
   "pygments_lexer": "ipython3",
   "version": "3.7.1"
  }
 },
 "nbformat": 4,
 "nbformat_minor": 1
}
